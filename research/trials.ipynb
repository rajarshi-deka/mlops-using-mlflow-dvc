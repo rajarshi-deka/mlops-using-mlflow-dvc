{
 "cells": [
  {
   "cell_type": "markdown",
   "metadata": {},
   "source": [
    "#### Example of ConfigBox\n",
    "* Converts any data type to an object\n",
    "* Eg. In case of a dictionary, instead of using _dict[\"key_1\"] to access \"value_1\", we can use config_box_dict.key_1"
   ]
  },
  {
   "cell_type": "code",
   "execution_count": 1,
   "metadata": {},
   "outputs": [
    {
     "data": {
      "text/plain": [
       "'value_1'"
      ]
     },
     "execution_count": 1,
     "metadata": {},
     "output_type": "execute_result"
    }
   ],
   "source": [
    "from box import ConfigBox\n",
    "_dict = {\n",
    "    \"key_1\" : \"value_1\",\n",
    "    \"key_2\" : \"value_2\",\n",
    "}\n",
    "config_box_dict = ConfigBox(_dict)\n",
    "config_box_dict.key_1"
   ]
  },
  {
   "cell_type": "markdown",
   "metadata": {},
   "source": [
    "#### Example of EnsureAnnotations\n",
    "* Makes sure that the data type is maintained while passing arguments in function or else it throws error"
   ]
  },
  {
   "cell_type": "code",
   "execution_count": 7,
   "metadata": {},
   "outputs": [
    {
     "data": {
      "text/plain": [
       "6"
      ]
     },
     "execution_count": 7,
     "metadata": {},
     "output_type": "execute_result"
    }
   ],
   "source": [
    "from ensure import ensure_annotations\n",
    "@ensure_annotations\n",
    "def get_product(a:int, b:int):\n",
    "    return a*b\n",
    "\n",
    "get_product(2, 3) # This will run correctly\n",
    "# get_product(2, '3')   # This will throw an error since a string '3' is passed instead of integer"
   ]
  },
  {
   "cell_type": "code",
   "execution_count": null,
   "metadata": {},
   "outputs": [],
   "source": []
  }
 ],
 "metadata": {
  "kernelspec": {
   "display_name": "venv",
   "language": "python",
   "name": "python3"
  },
  "language_info": {
   "codemirror_mode": {
    "name": "ipython",
    "version": 3
   },
   "file_extension": ".py",
   "mimetype": "text/x-python",
   "name": "python",
   "nbconvert_exporter": "python",
   "pygments_lexer": "ipython3",
   "version": "3.8.18"
  }
 },
 "nbformat": 4,
 "nbformat_minor": 2
}
